import pandas as pd
url = "https://raw.githubusercontent.com/GWC-DCMB/CapstoneProject/master/datasets/"
filepath = "AP_exams/ap_exams_MI_2018.csv"
df = pd.read_csv(url + filepath)
df.head()
