import pandas as pd
url = "https://raw.githubusercontent.com/GWC-DCMB/CapstoneProject/master/datasets/"
filepath = "/sleep_study/2014SleepinAmericaPollSleepintheModernFamilyRawDataExcel.csv"
df = pd.read_csv(url + filepath)
df.head()
